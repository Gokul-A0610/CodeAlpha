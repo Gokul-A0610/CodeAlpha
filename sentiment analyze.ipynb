{
 "cells": [
  {
   "cell_type": "code",
   "execution_count": 4,
   "id": "0cd7605c-714f-4c77-b5fe-d1881c57cd65",
   "metadata": {},
   "outputs": [],
   "source": [
    "#CodeAlpha(TASD-4:Sentiment Anal)"
   ]
  },
  {
   "cell_type": "code",
   "execution_count": 5,
   "id": "2763bd95-0dea-4528-89c3-9013014a894e",
   "metadata": {},
   "outputs": [
    {
     "name": "stdout",
     "output_type": "stream",
     "text": [
      "Amazon Review: This product is not amazing! I not love it.\n",
      "Sentiment: Negative, Scores: {'neg': 0.278, 'neu': 0.495, 'pos': 0.227, 'compound': -0.156}\n",
      "Twitter Post: I am so super with this service.\n",
      "Sentiment: Positive, Scores: {'neg': 0.0, 'neu': 0.544, 'pos': 0.456, 'compound': 0.6361}\n",
      "Reddit Comment: The movie was okay, great but bad.\n",
      "Sentiment: Negative, Scores: {'neg': 0.373, 'neu': 0.314, 'pos': 0.314, 'compound': -0.4118}\n",
      "News Headline: Stock markets show mixed reactions after recent policy changes.\n",
      "Sentiment: Neutral, Scores: {'neg': 0.0, 'neu': 1.0, 'pos': 0.0, 'compound': 0.0}\n"
     ]
    },
    {
     "name": "stderr",
     "output_type": "stream",
     "text": [
      "[nltk_data] Error loading vader_lexicon: <urlopen error [Errno 11001]\n",
      "[nltk_data]     getaddrinfo failed>\n"
     ]
    }
   ],
   "source": [
    "import nltk\n",
    "from nltk.sentiment import SentimentIntensityAnalyzer\n",
    "\n",
    "# Download VADER lexicon\n",
    "nltk.download('vader_lexicon')\n",
    "\n",
    "# Initialize Sentiment Analyzer\n",
    "sia = SentimentIntensityAnalyzer()\n",
    "\n",
    "# Function to analyze sentiment\n",
    "def analyze_sentiment(text):\n",
    "    sentiment_scores = sia.polarity_scores(text)\n",
    "    \n",
    "    if sentiment_scores['compound'] >= 0.05:\n",
    "        sentiment = \"Positive\"\n",
    "    elif sentiment_scores['compound'] <= -0.05:\n",
    "        sentiment = \"Negative\"\n",
    "    else:\n",
    "        sentiment = \"Neutral\"\n",
    "    \n",
    "    return sentiment, sentiment_scores\n",
    "\n",
    "# Sample data from various sources\n",
    "data_sources = {\n",
    "    \"Amazon Review\": \"This product is not amazing! I not love it.\",\n",
    "    \"Twitter Post\": \"I am so super with this service.\",\n",
    "    \"Reddit Comment\": \"The movie was okay, great but bad.\",\n",
    "    \"News Headline\": \"Stock markets show mixed reactions after recent policy changes.\"\n",
    "}\n",
    "\n",
    "# Analyze sentiment for each source\n",
    "for source, text in data_sources.items():\n",
    "    sentiment, scores = analyze_sentiment(text)\n",
    "    print(f\"{source}: {text}\")\n",
    "    print(f\"Sentiment: {sentiment}, Scores: {scores}\")"
   ]
  }
 ],
 "metadata": {
  "kernelspec": {
   "display_name": "Python 3 (ipykernel)",
   "language": "python",
   "name": "python3"
  },
  "language_info": {
   "codemirror_mode": {
    "name": "ipython",
    "version": 3
   },
   "file_extension": ".py",
   "mimetype": "text/x-python",
   "name": "python",
   "nbconvert_exporter": "python",
   "pygments_lexer": "ipython3",
   "version": "3.13.0"
  }
 },
 "nbformat": 4,
 "nbformat_minor": 5
}
