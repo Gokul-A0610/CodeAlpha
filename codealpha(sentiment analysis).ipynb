{
 "cells": [
  {
   "cell_type": "markdown",
   "id": "7b77fee2-b4b2-4502-b8c8-7b64eac0286f",
   "metadata": {},
   "source": [
    "Gokul A"
   ]
  },
  {
   "cell_type": "markdown",
   "id": "32d14b7b-dd4d-4621-9185-5751446041d5",
   "metadata": {},
   "source": [
    "CodeAlpha(TASK-4:Sentiment Analysis)"
   ]
  },
  {
   "cell_type": "markdown",
   "id": "58b50523-4256-4d17-94c4-cbe8ffc7e0c3",
   "metadata": {},
   "source": [
    "Project Title:\n",
    "Understanding Emotions Through Text: Sentiment Analysis Project"
   ]
  },
  {
   "cell_type": "markdown",
   "id": "0a8f0212-22e8-418c-9b95-91b37e6cdd9b",
   "metadata": {},
   "source": [
    "Project Summary:\n",
    "As part of Task 4 in my data science internship, I explored Sentiment Analysis—a Natural Language \n",
    "Processing (NLP) technique that identifies the emotional tone behind text data. Using Python and \n",
    "libraries like NLTK, TextBlob, and VADER, I analyzed text data from platforms such as Amazon reviews, \n",
    "Twitter, and news articles to determine whether the sentiment was positive, negative, or neutral."
   ]
  },
  {
   "cell_type": "markdown",
   "id": "01b65e95-4f13-4592-8cdc-82021b06a743",
   "metadata": {},
   "source": [
    "Objectives:\n",
    "1.Perform sentiment classification using NLP techniques.\n",
    "2.Understand public opinion on products, services, or events.\n",
    "3.Apply sentiment lexicons to detect emotional tone in text."
   ]
  },
  {
   "cell_type": "markdown",
   "id": "36b6cbad-fb1b-4e1f-8ec6-e927333a96ef",
   "metadata": {},
   "source": [
    "Key Takeaways:\n",
    "1.Developed a solid understanding of sentiment scoring and text preprocessing.\n",
    "2.Learned to extract insights from unstructured text data.\n",
    "3.Realized how powerful sentiment analysis is for businesses and public engagement.\n",
    "4.Gained hands-on experience with real-world datasets and NLP tools."
   ]
  },
  {
   "cell_type": "markdown",
   "id": "602bba49-143b-4024-859c-c29b0f011fb9",
   "metadata": {},
   "source": [
    "Key Tasks:\n",
    "1.Determine if text is positive, negative, or neutral using NLP.\n",
    "2.Use lexicons to detect emotions in text.\n",
    "3.Analyze public opinions from sources like:"
   ]
  },
  {
   "cell_type": "markdown",
   "id": "27abb1f1-3f34-4eba-b882-90851fb56f16",
   "metadata": {},
   "source": [
    "Let's Begin CODE:"
   ]
  },
  {
   "cell_type": "code",
   "execution_count": 1,
   "id": "2763bd95-0dea-4528-89c3-9013014a894e",
   "metadata": {},
   "outputs": [],
   "source": [
    "import nltk\n",
    "from nltk.sentiment import SentimentIntensityAnalyzer"
   ]
  },
  {
   "cell_type": "code",
   "execution_count": 5,
   "id": "d7b8c6b1-8674-4c21-9b6d-082bc295ccb5",
   "metadata": {},
   "outputs": [
    {
     "name": "stderr",
     "output_type": "stream",
     "text": [
      "[nltk_data] Error loading vader_lexicon: <urlopen error [Errno 11001]\n",
      "[nltk_data]     getaddrinfo failed>\n"
     ]
    }
   ],
   "source": [
    "# Download VADER lexicon\n",
    "nltk.download('vader_lexicon')\n",
    "\n",
    "# Initialize Sentiment Analyzer\n",
    "sia = SentimentIntensityAnalyzer()"
   ]
  },
  {
   "cell_type": "code",
   "execution_count": 3,
   "id": "a4ea5160-b359-492d-97ad-83fa9761b41d",
   "metadata": {},
   "outputs": [],
   "source": [
    "\n",
    "# Function to analyze sentiment\n",
    "def analyze_sentiment(text):\n",
    "    sentiment_scores = sia.polarity_scores(text)\n",
    "    \n",
    "    if sentiment_scores['compound'] >= 0.05:\n",
    "        sentiment = \"Positive\"\n",
    "    elif sentiment_scores['compound'] <= -0.05:\n",
    "        sentiment = \"Negative\"\n",
    "    else:\n",
    "        sentiment = \"Neutral\"\n",
    "    \n",
    "    return sentiment, sentiment_scores"
   ]
  },
  {
   "cell_type": "code",
   "execution_count": 4,
   "id": "c8dbb7d7-2a54-494c-ab05-25c80c27b9b0",
   "metadata": {},
   "outputs": [
    {
     "name": "stdout",
     "output_type": "stream",
     "text": [
      "Amazon Review: This product is not amazing! I not love it.\n",
      "Sentiment: Negative, Scores: {'neg': 0.278, 'neu': 0.495, 'pos': 0.227, 'compound': -0.156}\n",
      "Twitter Post: I am so super with this service.\n",
      "Sentiment: Positive, Scores: {'neg': 0.0, 'neu': 0.544, 'pos': 0.456, 'compound': 0.6361}\n",
      "Reddit Comment: The movie was okay, great but bad.\n",
      "Sentiment: Negative, Scores: {'neg': 0.373, 'neu': 0.314, 'pos': 0.314, 'compound': -0.4118}\n",
      "News Headline: Stock markets show mixed reactions after recent policy changes.\n",
      "Sentiment: Neutral, Scores: {'neg': 0.0, 'neu': 1.0, 'pos': 0.0, 'compound': 0.0}\n"
     ]
    }
   ],
   "source": [
    "# Sample data from various sources\n",
    "data_sources = {\n",
    "    \"Amazon Review\": \"This product is not amazing! I not love it.\",\n",
    "    \"Twitter Post\": \"I am so super with this service.\",\n",
    "    \"Reddit Comment\": \"The movie was okay, great but bad.\",\n",
    "    \"News Headline\": \"Stock markets show mixed reactions after recent policy changes.\"\n",
    "}\n",
    "\n",
    "# Analyze sentiment for each source\n",
    "for source, text in data_sources.items():\n",
    "    sentiment, scores = analyze_sentiment(text)\n",
    "    print(f\"{source}: {text}\")\n",
    "    print(f\"Sentiment: {sentiment}, Scores: {scores}\")"
   ]
  }
 ],
 "metadata": {
  "kernelspec": {
   "display_name": "Python 3 (ipykernel)",
   "language": "python",
   "name": "python3"
  },
  "language_info": {
   "codemirror_mode": {
    "name": "ipython",
    "version": 3
   },
   "file_extension": ".py",
   "mimetype": "text/x-python",
   "name": "python",
   "nbconvert_exporter": "python",
   "pygments_lexer": "ipython3",
   "version": "3.13.0"
  }
 },
 "nbformat": 4,
 "nbformat_minor": 5
}
